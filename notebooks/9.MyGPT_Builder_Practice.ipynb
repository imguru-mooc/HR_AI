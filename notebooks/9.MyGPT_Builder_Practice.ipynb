{
  "cells": [
    {
      "cell_type": "markdown",
      "metadata": {
        "id": "0dKRyYkABPrc"
      },
      "source": [
        "# 나만의 GPT 만들기 실습 (OpenAI GPTs 활용)\n",
        "\n",
        "## Step 1: 목적과 이름 설정\n",
        "- GPT 이름: HR Assistant GPT\n",
        "- 목적: 사내 직원 정보 조회, 조직도 안내, 채용 지원 업무 자동화"
      ],
      "id": "0dKRyYkABPrc"
    },
    {
      "cell_type": "markdown",
      "metadata": {
        "id": "nIxwfjdYBPre"
      },
      "source": [
        "## Step 2: 지시사항 설정 (Instructions)\n",
        "```\n",
        "너는 우리 회사 인사팀 전용 GPT야.\n",
        "- 직원 이름으로 검색하면 부서, 직급, 입사일, 주요 업무를 알려줘.\n",
        "- 조직도나 신입사원 목록도 알려줄 수 있어.\n",
        "- 개인정보 보호를 위해 연봉, 연락처는 제공하지 않아.\n",
        "- 존재하지 않는 이름은 '해당 직원은 목록에 없습니다.'라고 대답해.\n",
        "```"
      ],
      "id": "nIxwfjdYBPre"
    },
    {
      "cell_type": "markdown",
      "metadata": {
        "id": "2Oiv8I_PBPre"
      },
      "source": [
        "## Step 3: 지식 추가 (사원 데이터)\n",
        "| 이름   | 부서       | 직급   | 입사일       | 주요 업무                      |\n",
        "|--------|------------|--------|--------------|--------------------------------|\n",
        "| 김지훈 | 전략기획팀 | 대리   | 2021-03-01   | 전략 수립, 사업 기획           |\n",
        "| 박소연 | 마케팅팀   | 과장   | 2019-07-15   | 디지털 마케팅, SNS 운영       |\n",
        "| 이민수 | 개발팀     | 사원   | 2023-02-20   | 웹 서비스 개발                |\n",
        "| 최은지 | 인사팀     | 대리   | 2022-09-01   | 채용, 인사 데이터 관리        |\n",
        "| 정우진 | 재무팀     | 부장   | 2017-11-10   | 회계 관리, 자금 운영          |\n",
        "| 한수민 | 고객지원팀 | 사원   | 2024-01-02   | 고객 상담, 불만 처리          |\n",
        "| 오세훈 | 개발팀     | 대리   | 2020-05-30   | 앱 개발, 유지보수             |\n",
        "| 이지아 | 디자인팀   | 주임   | 2021-08-23   | 브랜드 디자인, UI/UX          |\n",
        "| 김현우 | 영업팀     | 과장   | 2018-04-05   | 신규 고객 발굴, 영업 전략 수립|\n",
        "| 박지은 | 품질관리팀 | 대리   | 2020-12-14   | 제품 품질 검수, 개선           |"
      ],
      "id": "2Oiv8I_PBPre"
    },
    {
      "cell_type": "markdown",
      "metadata": {
        "id": "r5gJVwVmBPrf"
      },
      "source": [
        "## Step 4: OpenAI GPTs 메뉴 실습 절차\n",
        "1. ChatGPT → Explore GPTs → **Create** 클릭\n",
        "2. 이름과 프로필 이미지 설정\n",
        "3. GPT 소개 작성 → '우리 회사 인사 정보를 안내합니다.'\n",
        "4. Instructions 입력 → Step 2 내용 사용\n",
        "5. Knowledge → Step 3의 사원 정보 업로드 (CSV 또는 TXT)\n",
        "6. API 연결 여부 선택 (선택 사항)\n",
        "7. 테스트 및 저장 → 내부용/공개 여부 설정"
      ],
      "id": "r5gJVwVmBPrf"
    },
    {
      "cell_type": "markdown",
      "metadata": {
        "id": "VkkoED9VBPrf"
      },
      "source": [
        "## Step 5: 테스트 예시\n",
        "\n",
        "[HR Assistant GPT](https://chatgpt.com/g/g-685d32a7ea60819191f8291abe3eef70-hr-assistant-gpt)\n",
        "\n",
        "- 김지훈님은 어느 부서인가요? → 전략기획팀입니다.\n",
        "- 신입사원 명단 알려줘. → 이민수(개발팀), 한수민(고객지원팀)\n",
        "- 박소연님의 주요 업무는 무엇인가요? → 디지털 마케팅, SNS 운영입니다.\n",
        "- 2021년에 입사한 직원은 누구인가요? → 김지훈, 이지아입니다.\n",
        "\n",
        "[음악 AI GPT](https://chatgpt.com/g/g-676cca09cd488191afb60e0d38726786-eumag-ai-gpt-norae-melrodi-gasa-jejag)\n"
      ],
      "id": "VkkoED9VBPrf"
    },
    {
      "cell_type": "code",
      "source": [],
      "metadata": {
        "id": "aIz8MyT5E7If"
      },
      "id": "aIz8MyT5E7If",
      "execution_count": null,
      "outputs": []
    }
  ],
  "metadata": {
    "kernelspec": {
      "display_name": "Python 3",
      "language": "python",
      "name": "python3"
    },
    "language_info": {
      "name": "python",
      "version": "3.9"
    },
    "colab": {
      "provenance": []
    }
  },
  "nbformat": 4,
  "nbformat_minor": 5
}