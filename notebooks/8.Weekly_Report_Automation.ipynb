{
    "cells": [
        {
            "cell_type": "markdown",
            "metadata": {},
            "source": [
                "# 주간 업무 보고서 자동화 실습\n",
                "이 노트북은 주간 업무 보고서를 자동화하는 과정을 보여줍니다.\n",
                "\n",
                "## Step 1: 템플릿 설계\n",
                "- 자주 사용하는 보고서 유형 파악\n",
                "- 템플릿 표준화"
            ]
        },
        {
            "cell_type": "markdown",
            "metadata": {},
            "source": [
                "### ✅ 템플릿 예시\n",
                "| 구분 | 내용 |\n",
                "|------|------|\n",
                "| 기본 정보 | 성명, 부서, 작성일 |\n",
                "| 주간 주요 업무 | 이번 주 완료한 업무 |\n",
                "| 진행 중 업무 | 현재 진행 중인 업무 |\n",
                "| 문제 및 이슈 | 업무 중 발생한 문제 |\n",
                "| 차주 계획 | 다음 주 계획 |\n",
                "| 메모 | 기타 사항 |"
            ]
        },
        {
            "cell_type": "markdown",
            "metadata": {},
            "source": [
                "## Step 2: AI 연동 (ChatGPT 활용)\n",
                "다음 프롬프트를 ChatGPT에 입력하여 자동화합니다."
            ]
        },
        {
            "cell_type": "code",
            "execution_count": null,
            "metadata": {},
            "outputs": [],
            "source": [
                "prompt = '''\n",
                "다음 정보를 바탕으로 주간 업무 보고서를 작성해 주세요.\n",
                "\n",
                "[기본 정보]\n",
                "- 성명: 김지훈\n",
                "- 부서: 전략기획팀\n",
                "- 작성일: 2024-06-28\n",
                "\n",
                "[이번 주 완료한 업무]\n",
                "- 월간 전략 회의 준비\n",
                "- 신규 프로젝트 기획서 작성\n",
                "- 내부 보고용 데이터 분석\n",
                "\n",
                "[현재 진행 중인 업무]\n",
                "- 시장 조사 보고서 작성\n",
                "- 부서별 목표 설정 미팅 진행\n",
                "\n",
                "[업무 중 발생한 문제 및 이슈]\n",
                "- 고객 설문 응답률 저조 (대책 필요)\n",
                "\n",
                "[다음 주 계획]\n",
                "- 시장 조사 보고서 완료\n",
                "- 신규 프로젝트 킥오프 미팅\n",
                "- 사내 교육 진행\n",
                "\n",
                "[메모]\n",
                "- 외부 강사 섭외 완료\n",
                "\n",
                "이 정보를 자연스럽게 문장으로 작성해 주세요.\n",
                "'''\n",
                "print(prompt)"
            ]
        },
        {
            "cell_type": "markdown",
            "metadata": {},
            "source": [
                "## Step 3: 통합 및 배포 (워크플로우 연동)\n",
                "워크플로우 예시:\n",
                "- Google Sheets, Notion, Airtable에 업무 내용 입력\n",
                "- ChatGPT API를 통해 보고서 자동 생성\n",
                "- 결과를 Google Docs, Slack, 이메일로 자동 전송"
            ]
        },
        {
            "cell_type": "markdown",
            "metadata": {},
            "source": [
                "### ✅ Slack 자동 공유 프롬프트 예시\n",
                "```\n",
                "ChatGPT야, 아래 정보를 바탕으로 Slack에 공유할 주간 업무 보고서 메시지를 작성해 줘.\n",
                "\n",
                "[팀명] 전략기획팀\n",
                "[작성자] 김지훈\n",
                "[업무 요약]\n",
                "- 완료: 전략 회의 준비, 프로젝트 기획서, 데이터 분석\n",
                "- 진행: 시장 조사, 부서 목표 설정\n",
                "- 이슈: 고객 설문 응답률 저조\n",
                "- 계획: 조사 보고서 완료, 킥오프 미팅, 사내 교육 진행\n",
                "```\n"
            ]
        }
    ],
    "metadata": {
        "kernelspec": {
            "display_name": "Python 3",
            "language": "python",
            "name": "python3"
        },
        "language_info": {
            "name": "python",
            "version": "3.9"
        }
    },
    "nbformat": 4,
    "nbformat_minor": 5
}