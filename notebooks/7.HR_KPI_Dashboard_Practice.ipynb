{
    "cells": [
        {
            "cell_type": "markdown",
            "metadata": {},
            "source": [
                "# HR KPI Dashboard Practice (2024)\n",
                "## Step 1: Goal and KPI Definition\n",
                "- **Goal:** Monitor organizational health, employee stability, training participation, and feedback engagement.\n",
                "- **KPI:**\n",
                "  - Total Employees\n",
                "  - New Hires\n",
                "  - Resignations\n",
                "  - Average Tenure (Months)\n",
                "  - Training Completion Rate (%)\n",
                "  - Feedback Participation Rate (%)\n"
            ]
        },
        {
            "cell_type": "markdown",
            "metadata": {},
            "source": [
                "## Step 2: Sample Data Overview (2024 Jan ~ Dec)\n",
                "| Month | Total Employees | New Hires | Resignations | Avg Tenure (Months) | Training Completion (%) | Feedback Participation (%) |\n",
                "|-------|-----------------|-----------|--------------|----------------------|-------------------------|----------------------------|\n",
                "| 2024-01 | 95 | 5 | 2 | 24.5 | 85 | 70 |\n",
                "| 2024-02 | 98 | 6 | 3 | 25.2 | 88 | 72 |\n",
                "| 2024-03 | 100 | 4 | 2 | 26.0 | 82 | 68 |\n",
                "| 2024-04 | 102 | 5 | 3 | 26.8 | 90 | 75 |\n",
                "| 2024-05 | 105 | 4 | 1 | 27.5 | 92 | 80 |\n",
                "| 2024-06 | 108 | 5 | 2 | 28.3 | 91 | 78 |\n",
                "| 2024-07 | 110 | 4 | 2 | 29.1 | 93 | 81 |\n",
                "| 2024-08 | 112 | 5 | 3 | 29.8 | 89 | 79 |\n",
                "| 2024-09 | 114 | 4 | 2 | 30.5 | 95 | 83 |\n",
                "| 2024-10 | 116 | 5 | 3 | 31.2 | 92 | 82 |\n",
                "| 2024-11 | 118 | 4 | 2 | 31.9 | 94 | 85 |\n",
                "| 2024-12 | 120 | 5 | 3 | 32.5 | 96 | 88 |\n"
            ]
        },
        {
            "cell_type": "markdown",
            "metadata": {},
            "source": [
                "## Step 3: Visualization Design\n",
                "| KPI | Recommended Chart | Reason |\n",
                "|-----|-------------------|--------|\n",
                "| Total Employees | Line Chart | Visualize workforce growth trend |\n",
                "| New Hires vs Resignations | Grouped Bar Chart | Compare workforce inflow and outflow |\n",
                "| Average Tenure | Line Chart | Visualize organizational stability |\n",
                "| Training Completion | Gauge or Bar Chart | Intuitive view of progress |\n",
                "| Feedback Participation | Donut Chart | Emphasize participation ratio |\n"
            ]
        },
        {
            "cell_type": "markdown",
            "metadata": {},
            "source": [
                "## Step 4: Dashboard Layout Example\n",
                "- **Top Left:** Total Employees (Line Chart)\n",
                "- **Top Right:** New Hires vs Resignations (Bar Chart)\n",
                "- **Center:** Average Tenure (Line Chart)\n",
                "- **Bottom Left:** Training Completion (Gauge Chart)\n",
                "- **Bottom Right:** Feedback Participation (Donut Chart)"
            ]
        },
        {
            "cell_type": "markdown",
            "metadata": {},
            "source": [
                "## Step 5: ChatGPT Prompt Examples\n",
                "### 1. Data Summary Prompt\n",
                "> Summarize HR data from Jan to Dec 2024 by month. Show trends in Total Employees, New Hires, Resignations, Average Tenure, Training Completion Rate, and Feedback Participation Rate.\n",
                "\n",
                "### 2. Insight Extraction Prompt\n",
                "> Derive insights for workforce trends, stability, training, and feedback. Suggest improvement points for each KPI.\n",
                "\n",
                "### 3. Risk Detection Prompt\n",
                "> Identify risky months based on high resignations, stagnated average tenure, training completion below 85%, or feedback below 75%.\n",
                "\n",
                "### 4. Improvement Plan Prompt\n",
                "> Suggest concrete action plans to improve workforce stability, training participation, and feedback engagement.\n",
                "\n",
                "### 5. Visualization Design Prompt\n",
                "> Recommend the best chart type for each KPI and explain why.\n",
                "\n",
                "### 6. Final Report Prompt\n",
                "> Create a summary report including current status, strengths, risk areas, and an improvement strategy.\n",
                "\n",
                "### 7. Dashboard Layout Prompt\n",
                "> Suggest a screen layout for HR KPI dashboard, including differences between manager and staff views."
            ]
        },
        {
            "cell_type": "markdown",
            "metadata": {},
            "source": [
                "## Step 6: Final Report Template\n",
                "| Section | Content |\n",
                "|---------|---------|\n",
                "| Summary | Overview of employee trends and key KPIs |\n",
                "| Strengths | Positive trends like growth and stability |\n",
                "| Risks | High resignations, low feedback, training dips |\n",
                "| Action Plan | Hire strategies, onboarding improvements, training optimization, and feedback campaigns |\n"
            ]
        },
        {
            "cell_type": "markdown",
            "metadata": {},
            "source": [
                "## Worksheet Template\n",
                "```\n",
                "[Goal and KPI]\n",
                "- Goal:\n",
                "- KPI:\n",
                "\n",
                "[Data Source]\n",
                "- Source List:\n",
                "- Connection Type:\n",
                "\n",
                "[Visualization Design]\n",
                "- KPI:\n",
                "- Chart Type:\n",
                "\n",
                "[Implementation & Testing]\n",
                "- Tool:\n",
                "- Test Items:\n",
                "- Improvements:\n",
                "```"
            ]
        }
    ],
    "metadata": {
        "kernelspec": {
            "display_name": "Python 3",
            "language": "python",
            "name": "python3"
        },
        "language_info": {
            "name": "python",
            "version": "3.9"
        }
    },
    "nbformat": 4,
    "nbformat_minor": 5
}