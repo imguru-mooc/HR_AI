{
    "cells": [
        {
            "cell_type": "markdown",
            "metadata": {},
            "source": [
                "# HR KPI Dashboard Practice Notebook\n",
                "This notebook demonstrates how to analyze HR KPI data from January to December 2024.\n",
                "\n",
                "## Data Overview\n",
                "- Total Employees\n",
                "- New Hires\n",
                "- Resignations\n",
                "- Average Tenure\n",
                "- Training Completion Rate\n",
                "- Feedback Participation Rate"
            ]
        },
        {
            "cell_type": "code",
            "execution_count": null,
            "metadata": {},
            "outputs": [],
            "source": [
                "import pandas as pd\n",
                "import matplotlib.pyplot as plt\n",
                "import seaborn as sns\n",
                "\n",
                "# HR Data\n",
                "df = pd.DataFrame([{\"Month\":\"2024-01\",\"TotalEmployees\":95,\"NewHires\":5,\"Resignations\":2,\"AvgTenure\":24.5,\"TrainingCompletion\":85,\"FeedbackParticipation\":70},{\"Month\":\"2024-02\",\"TotalEmployees\":98,\"NewHires\":6,\"Resignations\":3,\"AvgTenure\":25.2,\"TrainingCompletion\":88,\"FeedbackParticipation\":72},{\"Month\":\"2024-03\",\"TotalEmployees\":100,\"NewHires\":4,\"Resignations\":2,\"AvgTenure\":26.0,\"TrainingCompletion\":82,\"FeedbackParticipation\":68},{\"Month\":\"2024-04\",\"TotalEmployees\":102,\"NewHires\":5,\"Resignations\":3,\"AvgTenure\":26.8,\"TrainingCompletion\":90,\"FeedbackParticipation\":75},{\"Month\":\"2024-05\",\"TotalEmployees\":105,\"NewHires\":4,\"Resignations\":1,\"AvgTenure\":27.5,\"TrainingCompletion\":92,\"FeedbackParticipation\":80},{\"Month\":\"2024-06\",\"TotalEmployees\":108,\"NewHires\":5,\"Resignations\":2,\"AvgTenure\":28.3,\"TrainingCompletion\":91,\"FeedbackParticipation\":78},{\"Month\":\"2024-07\",\"TotalEmployees\":110,\"NewHires\":4,\"Resignations\":2,\"AvgTenure\":29.1,\"TrainingCompletion\":93,\"FeedbackParticipation\":81},{\"Month\":\"2024-08\",\"TotalEmployees\":112,\"NewHires\":5,\"Resignations\":3,\"AvgTenure\":29.8,\"TrainingCompletion\":89,\"FeedbackParticipation\":79},{\"Month\":\"2024-09\",\"TotalEmployees\":114,\"NewHires\":4,\"Resignations\":2,\"AvgTenure\":30.5,\"TrainingCompletion\":95,\"FeedbackParticipation\":83},{\"Month\":\"2024-10\",\"TotalEmployees\":116,\"NewHires\":5,\"Resignations\":3,\"AvgTenure\":31.2,\"TrainingCompletion\":92,\"FeedbackParticipation\":82},{\"Month\":\"2024-11\",\"TotalEmployees\":118,\"NewHires\":4,\"Resignations\":2,\"AvgTenure\":31.9,\"TrainingCompletion\":94,\"FeedbackParticipation\":85},{\"Month\":\"2024-12\",\"TotalEmployees\":120,\"NewHires\":5,\"Resignations\":3,\"AvgTenure\":32.5,\"TrainingCompletion\":96,\"FeedbackParticipation\":88}])\n",
                "df"
            ]
        },
        {
            "cell_type": "markdown",
            "metadata": {},
            "source": [
                "## KPI Trend Visualization"
            ]
        },
        {
            "cell_type": "code",
            "execution_count": null,
            "metadata": {},
            "outputs": [],
            "source": [
                "# Total Employees Trend\n",
                "plt.figure(figsize=(8,5))\n",
                "plt.plot(df['Month'], df['TotalEmployees'], marker='o')\n",
                "plt.title('Total Employees Trend')\n",
                "plt.xlabel('Month')\n",
                "plt.ylabel('Employees')\n",
                "plt.grid(True)\n",
                "plt.show()"
            ]
        },
        {
            "cell_type": "code",
            "execution_count": null,
            "metadata": {},
            "outputs": [],
            "source": [
                "# New Hires vs Resignations\n",
                "bar_width = 0.4\n",
                "x = range(len(df['Month']))\n",
                "plt.figure(figsize=(8,5))\n",
                "plt.bar([i - bar_width/2 for i in x], df['NewHires'], width=bar_width, label='New Hires')\n",
                "plt.bar([i + bar_width/2 for i in x], df['Resignations'], width=bar_width, label='Resignations')\n",
                "plt.xticks(x, df['Month'])\n",
                "plt.title('New Hires vs Resignations')\n",
                "plt.xlabel('Month')\n",
                "plt.ylabel('People')\n",
                "plt.legend()\n",
                "plt.show()"
            ]
        },
        {
            "cell_type": "code",
            "execution_count": null,
            "metadata": {},
            "outputs": [],
            "source": [
                "# Average Tenure Trend\n",
                "plt.figure(figsize=(8,5))\n",
                "plt.plot(df['Month'], df['AvgTenure'], marker='o', color='green')\n",
                "plt.title('Average Tenure (Months)')\n",
                "plt.xlabel('Month')\n",
                "plt.ylabel('Avg Tenure (Months)')\n",
                "plt.grid(True)\n",
                "plt.show()"
            ]
        },
        {
            "cell_type": "code",
            "execution_count": null,
            "metadata": {},
            "outputs": [],
            "source": [
                "# Training Completion Rate\n",
                "plt.figure(figsize=(8,5))\n",
                "plt.bar(df['Month'], df['TrainingCompletion'], color='orange')\n",
                "plt.title('Training Completion Rate (%)')\n",
                "plt.xlabel('Month')\n",
                "plt.ylabel('Completion Rate (%)')\n",
                "plt.show()"
            ]
        },
        {
            "cell_type": "code",
            "execution_count": null,
            "metadata": {},
            "outputs": [],
            "source": [
                "# Feedback Participation Rate Donut Chart\n",
                "plt.figure(figsize=(6,6))\n",
                "wedges, texts, autotexts = plt.pie(\n",
                "    df['FeedbackParticipation'], labels=df['Month'], autopct='%1.1f%%',\n",
                "    startangle=90, wedgeprops=dict(width=0.4)\n",
                ")\n",
                "plt.title('Feedback Participation Rate')\n",
                "plt.show()"
            ]
        }
    ],
    "metadata": {
        "kernelspec": {
            "display_name": "Python 3",
            "language": "python",
            "name": "python3"
        },
        "language_info": {
            "name": "python",
            "version": "3.9"
        }
    },
    "nbformat": 4,
    "nbformat_minor": 5
}